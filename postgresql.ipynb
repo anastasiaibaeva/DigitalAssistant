{
 "cells": [
  {
   "cell_type": "code",
   "execution_count": 66,
   "metadata": {},
   "outputs": [
    {
     "name": "stdout",
     "output_type": "stream",
     "text": [
      "Database opened successfully\n"
     ]
    }
   ],
   "source": [
    "import psycopg2\n",
    "\n",
    "con = psycopg2.connect(\n",
    "  database=\"db_dsa\", \n",
    "  user=\"udsa\", \n",
    "  password=\"P@ssword2021\", \n",
    "  host=\"92.242.58.173\", \n",
    "  port=\"1984\"\n",
    ")\n",
    "\n",
    "print(\"Database opened successfully\")"
   ]
  },
  {
   "cell_type": "code",
   "execution_count": 42,
   "metadata": {},
   "outputs": [
    {
     "name": "stdout",
     "output_type": "stream",
     "text": [
      "Table created successfully\n"
     ]
    }
   ],
   "source": [
    "cur = con.cursor()\n",
    "cur.execute('''CREATE TABLE PROJECTS_ARCHIVE  \n",
    "     (ID INT,\n",
    "     NUMBER INT,\n",
    "     VACANCIES INT,\n",
    "     NAME TEXT,\n",
    "     TYPE TEXT,\n",
    "     TYPEDESC TEXT,\n",
    "     TYPEID INT,\n",
    "     STATUSID INT,\n",
    "     DATACREATED TEXT,\n",
    "     FACULTYID INT);''')\n",
    "\n",
    "print(\"Table created successfully\")\n",
    "con.commit()"
   ]
  },
  {
   "cell_type": "code",
   "execution_count": 43,
   "metadata": {},
   "outputs": [],
   "source": [
    "import requests\n",
    "response = requests.get('https://devcabinet.miem.vmnet.top/public-api/projects/archive')\n",
    "posts = response.json()\n",
    "#print(posts['data'][0]['nameRus'])\n",
    "cur = con.cursor()\n",
    "for i in range(62):\n",
    "    p1 = posts['data'][i]['id']\n",
    "    p2 = posts['data'][i]['number']\n",
    "    p3 = posts['data'][i]['vacancies']\n",
    "    p4 = posts['data'][i]['nameRus']\n",
    "    p5 = posts['data'][i]['type']\n",
    "    p6 = posts['data'][i]['typeDesc']\n",
    "    p7 = posts['data'][i]['typeId']\n",
    "    p8 = posts['data'][i]['statusId']\n",
    "    p9 = posts['data'][i]['dateCreated']\n",
    "    p10 = posts['data'][i]['facultyId']\n",
    "    cur.execute(\n",
    "      \"INSERT INTO PROJECTS_ARCHIVE (ID,NUMBER,VACANCIES,NAME,TYPE,TYPEDESC,TYPEID,STATUSID,DATACREATED,FACULTYID) VALUES (%s,%s,%s,%s,%s,%s,%s,%s,%s,%s)\", (p1, p2, p3, p4, p5, p6, p7, p8, p9, p10)\n",
    "    )\n",
    "con.commit()\n",
    "con.close()"
   ]
  },
  {
   "cell_type": "markdown",
   "metadata": {},
   "source": [
    "# ПРОЕКТЫ НЕ АРХИВ"
   ]
  },
  {
   "cell_type": "code",
   "execution_count": 47,
   "metadata": {},
   "outputs": [
    {
     "name": "stdout",
     "output_type": "stream",
     "text": [
      "Table created successfully\n"
     ]
    }
   ],
   "source": [
    "cur = con.cursor()\n",
    "cur.execute('''CREATE TABLE PROJECTS  \n",
    "     (ID INT,\n",
    "     NUMBER INT,\n",
    "     VACANCIES INT,\n",
    "     NAME TEXT,\n",
    "     TYPE TEXT,\n",
    "     TYPEDESC TEXT,\n",
    "     TYPEID INT,\n",
    "     STATUSID INT,\n",
    "     STATUSDESC TEXT,\n",
    "     DIRECTIONHEAD TEXT,\n",
    "     HEAD TEXT,\n",
    "     DATACREATED TEXT,\n",
    "     FACULTYID INT);''')\n",
    "\n",
    "print(\"Table created successfully\")\n",
    "con.commit()"
   ]
  },
  {
   "cell_type": "code",
   "execution_count": 48,
   "metadata": {},
   "outputs": [],
   "source": [
    "import requests\n",
    "response2 = requests.get('https://devcabinet.miem.vmnet.top/public-api/projects')\n",
    "posts2 = response.json()\n",
    "cur = con.cursor()\n",
    "for i in range(62):\n",
    "    p1 = posts2['data'][i]['id']\n",
    "    p2 = posts2['data'][i]['number']\n",
    "    p3 = posts2['data'][i]['vacancies']\n",
    "    p4 = posts2['data'][i]['nameRus']\n",
    "    p5 = posts2['data'][i]['type']\n",
    "    p6 = posts2['data'][i]['typeDesc']\n",
    "    p7 = posts2['data'][i]['typeId']\n",
    "    p8 = posts2['data'][i]['statusId']\n",
    "    p9 = posts2['data'][i]['statusDesc']\n",
    "    p10 = posts2['data'][i]['directionHead']\n",
    "    p11 = posts2['data'][i]['head']\n",
    "    p12 = posts2['data'][i]['dateCreated']\n",
    "    p13 = posts2['data'][i]['facultyId']\n",
    "    cur.execute(\n",
    "      \"INSERT INTO PROJECTS (ID,NUMBER,VACANCIES,NAME,TYPE,TYPEDESC,TYPEID,STATUSID,STATUSDESC,DIRECTIONHEAD,HEAD,DATACREATED,FACULTYID) VALUES (%s,%s,%s,%s,%s,%s,%s,%s,%s,%s,%s,%s,%s)\", (p1, p2, p3, p4, p5, p6, p7, p8, p9, p10, p11, p12, p13)\n",
    "    )\n",
    "con.commit()\n",
    "con.close()"
   ]
  },
  {
   "cell_type": "code",
   "execution_count": 67,
   "metadata": {},
   "outputs": [],
   "source": [
    "cur = con.cursor()\n",
    "for i in range(63, 324):\n",
    "    p1 = posts2['data'][i]['id']\n",
    "    p2 = posts2['data'][i]['number']\n",
    "    p3 = posts2['data'][i]['vacancies']\n",
    "    p4 = posts2['data'][i]['nameRus']\n",
    "    p5 = posts2['data'][i]['type']\n",
    "    p6 = posts2['data'][i]['typeDesc']\n",
    "    p7 = posts2['data'][i]['typeId']\n",
    "    p8 = posts2['data'][i]['statusId']\n",
    "    p9 = posts2['data'][i]['statusDesc']\n",
    "    p10 = posts2['data'][i]['directionHead']\n",
    "    p11 = posts2['data'][i]['head']\n",
    "    p12 = posts2['data'][i]['dateCreated']\n",
    "    p13 = posts2['data'][i]['facultyId']\n",
    "    cur.execute(\n",
    "      \"INSERT INTO PROJECTS (ID,NUMBER,VACANCIES,NAME,TYPE,TYPEDESC,TYPEID,STATUSID,STATUSDESC,DIRECTIONHEAD,HEAD,DATACREATED,FACULTYID) VALUES (%s,%s,%s,%s,%s,%s,%s,%s,%s,%s,%s,%s,%s)\", (p1, p2, p3, p4, p5, p6, p7, p8, p9, p10, p11, p12, p13)\n",
    "    )\n",
    "con.commit()\n",
    "con.close()"
   ]
  },
  {
   "cell_type": "code",
   "execution_count": null,
   "metadata": {},
   "outputs": [],
   "source": []
  }
 ],
 "metadata": {
  "kernelspec": {
   "display_name": "Python 3",
   "language": "python",
   "name": "python3"
  },
  "language_info": {
   "codemirror_mode": {
    "name": "ipython",
    "version": 3
   },
   "file_extension": ".py",
   "mimetype": "text/x-python",
   "name": "python",
   "nbconvert_exporter": "python",
   "pygments_lexer": "ipython3",
   "version": "3.7.4"
  }
 },
 "nbformat": 4,
 "nbformat_minor": 4
}
