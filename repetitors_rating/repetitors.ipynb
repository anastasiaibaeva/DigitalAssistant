{
 "cells": [
  {
   "cell_type": "code",
   "execution_count": 1,
   "metadata": {},
   "outputs": [],
   "source": [
    "import numpy as np\n",
    "import matplotlib.pyplot as plt\n",
    "import pandas as pd\n",
    "import seaborn as sns\n",
    "\n",
    "from sklearn.cluster import Birch\n",
    "\n",
    "from sklearn.cluster import KMeans\n",
    "from sklearn.decomposition import PCA\n",
    "from sklearn.metrics import silhouette_score, adjusted_rand_score\n",
    "from sklearn.pipeline import Pipeline\n",
    "from sklearn.preprocessing import LabelEncoder, MinMaxScaler"
   ]
  },
  {
   "cell_type": "code",
   "execution_count": 2,
   "metadata": {},
   "outputs": [
    {
     "data": {
      "text/html": [
       "<div>\n",
       "<style scoped>\n",
       "    .dataframe tbody tr th:only-of-type {\n",
       "        vertical-align: middle;\n",
       "    }\n",
       "\n",
       "    .dataframe tbody tr th {\n",
       "        vertical-align: top;\n",
       "    }\n",
       "\n",
       "    .dataframe thead th {\n",
       "        text-align: right;\n",
       "    }\n",
       "</style>\n",
       "<table border=\"1\" class=\"dataframe\">\n",
       "  <thead>\n",
       "    <tr style=\"text-align: right;\">\n",
       "      <th></th>\n",
       "      <th>Column1</th>\n",
       "      <th>author</th>\n",
       "      <th>date</th>\n",
       "      <th>discipline</th>\n",
       "      <th>id</th>\n",
       "      <th>mark</th>\n",
       "      <th>reply</th>\n",
       "      <th>text</th>\n",
       "      <th>tutorlink</th>\n",
       "      <th>tutorname</th>\n",
       "    </tr>\n",
       "  </thead>\n",
       "  <tbody>\n",
       "    <tr>\n",
       "      <td>0</td>\n",
       "      <td>0.0</td>\n",
       "      <td>Юлия</td>\n",
       "      <td>2019-07-03</td>\n",
       "      <td>биология</td>\n",
       "      <td>3913905.0</td>\n",
       "      <td>лучше не бывает!</td>\n",
       "      <td>NaN</td>\n",
       "      <td>Очень грамотный и приятный преподаватель ) оче...</td>\n",
       "      <td>https://repetitors.info/repetitor/?p=SuhorukovaNA</td>\n",
       "      <td>Сухорукова Наталия Альбертовна</td>\n",
       "    </tr>\n",
       "    <tr>\n",
       "      <td>1</td>\n",
       "      <td>1.0</td>\n",
       "      <td>Ксения</td>\n",
       "      <td>2019-07-03</td>\n",
       "      <td>не указана</td>\n",
       "      <td>3913841.0</td>\n",
       "      <td>лучше не бывает!</td>\n",
       "      <td>NaN</td>\n",
       "      <td>Прислушивается к потребностям, очень хорошо об...</td>\n",
       "      <td>https://repetitors.info/repetitor/?p=RebrovRU</td>\n",
       "      <td>Ребров Родион Юрьевич</td>\n",
       "    </tr>\n",
       "    <tr>\n",
       "      <td>2</td>\n",
       "      <td>2.0</td>\n",
       "      <td>Виктория</td>\n",
       "      <td>2019-07-03</td>\n",
       "      <td>физика</td>\n",
       "      <td>3913830.0</td>\n",
       "      <td>лучше не бывает!</td>\n",
       "      <td>NaN</td>\n",
       "      <td>Сын писал пробный ЕГЭ на 70 баллов. Стал заним...</td>\n",
       "      <td>https://repetitors.info/repetitor/?p=SadovnikovSV</td>\n",
       "      <td>Садовников Сергей Викторович</td>\n",
       "    </tr>\n",
       "    <tr>\n",
       "      <td>3</td>\n",
       "      <td>3.0</td>\n",
       "      <td>Жанна</td>\n",
       "      <td>2019-07-03</td>\n",
       "      <td>английский язык</td>\n",
       "      <td>3913781.0</td>\n",
       "      <td>лучше не бывает!</td>\n",
       "      <td>NaN</td>\n",
       "      <td>Лидия замечательный преподаватель, пунктуальны...</td>\n",
       "      <td>https://repetitors.info/repetitor/?p=ErshovaLV5</td>\n",
       "      <td>Ершова Лидия Владимировна</td>\n",
       "    </tr>\n",
       "    <tr>\n",
       "      <td>4</td>\n",
       "      <td>4.0</td>\n",
       "      <td>Елена</td>\n",
       "      <td>2019-07-03</td>\n",
       "      <td>русский язык</td>\n",
       "      <td>3913776.0</td>\n",
       "      <td>лучше не бывает!</td>\n",
       "      <td>NaN</td>\n",
       "      <td>Плюсы: Репетитор замечательный, легко нашла ко...</td>\n",
       "      <td>https://repetitors.info/repetitor/?p=NoskovaEI</td>\n",
       "      <td>Носкова Евгения Игоревна</td>\n",
       "    </tr>\n",
       "    <tr>\n",
       "      <td>...</td>\n",
       "      <td>...</td>\n",
       "      <td>...</td>\n",
       "      <td>...</td>\n",
       "      <td>...</td>\n",
       "      <td>...</td>\n",
       "      <td>...</td>\n",
       "      <td>...</td>\n",
       "      <td>...</td>\n",
       "      <td>...</td>\n",
       "      <td>...</td>\n",
       "    </tr>\n",
       "    <tr>\n",
       "      <td>288720</td>\n",
       "      <td>3047.0</td>\n",
       "      <td>Марина Погадаева</td>\n",
       "      <td>2007-03-19</td>\n",
       "      <td>химия</td>\n",
       "      <td>502.0</td>\n",
       "      <td>почти отлично</td>\n",
       "      <td>NaN</td>\n",
       "      <td>По химии стала понимать, о чем говорит учитель...</td>\n",
       "      <td>https://repetitors.info/repetitor/?p=KomnatnyVV</td>\n",
       "      <td>Комнатный Виталий Викторович</td>\n",
       "    </tr>\n",
       "    <tr>\n",
       "      <td>288721</td>\n",
       "      <td>3048.0</td>\n",
       "      <td>Надежда Борисовна</td>\n",
       "      <td>2007-03-18</td>\n",
       "      <td>математика</td>\n",
       "      <td>475.0</td>\n",
       "      <td>почти отлично</td>\n",
       "      <td>NaN</td>\n",
       "      <td>Тактичный, ответственный,пунктуальный, професс...</td>\n",
       "      <td>https://repetitors.info/repetitor/?p=RubanSA</td>\n",
       "      <td>Рубан Сергей Алексеевич</td>\n",
       "    </tr>\n",
       "    <tr>\n",
       "      <td>288722</td>\n",
       "      <td>3049.0</td>\n",
       "      <td>Ирина</td>\n",
       "      <td>2006-12-13</td>\n",
       "      <td>математика</td>\n",
       "      <td>203.0</td>\n",
       "      <td>почти отлично</td>\n",
       "      <td>NaN</td>\n",
       "      <td>Интеллигентный,образованный человек.Объясняет ...</td>\n",
       "      <td>https://repetitors.info/repetitor/?p=ZaitsevSV</td>\n",
       "      <td>Зайцев Сергей Владимирович</td>\n",
       "    </tr>\n",
       "    <tr>\n",
       "      <td>288723</td>\n",
       "      <td>3050.0</td>\n",
       "      <td>Хомякова Юлия Станиславовна</td>\n",
       "      <td>2006-12-13</td>\n",
       "      <td>математика</td>\n",
       "      <td>201.0</td>\n",
       "      <td>почти отлично</td>\n",
       "      <td>NaN</td>\n",
       "      <td>Довольны работой Георгия, очень быстро нашел о...</td>\n",
       "      <td>https://repetitors.info/repetitor/?p=MutafianGS</td>\n",
       "      <td>Мутафян Георгий Семёнович</td>\n",
       "    </tr>\n",
       "    <tr>\n",
       "      <td>288724</td>\n",
       "      <td>3051.0</td>\n",
       "      <td>Татьяна</td>\n",
       "      <td>2006-10-31</td>\n",
       "      <td>английский язык</td>\n",
       "      <td>159.0</td>\n",
       "      <td>почти отлично</td>\n",
       "      <td>NaN</td>\n",
       "      <td>Добрый день! Во-первых,хочу поблагодарить адми...</td>\n",
       "      <td>https://repetitors.info/repetitor/?p=VitkinaDE</td>\n",
       "      <td>Виткина Дарья Евгеньевна</td>\n",
       "    </tr>\n",
       "  </tbody>\n",
       "</table>\n",
       "<p>288725 rows × 10 columns</p>\n",
       "</div>"
      ],
      "text/plain": [
       "        Column1                       author       date       discipline  \\\n",
       "0           0.0                         Юлия 2019-07-03         биология   \n",
       "1           1.0                       Ксения 2019-07-03       не указана   \n",
       "2           2.0                     Виктория 2019-07-03           физика   \n",
       "3           3.0                        Жанна 2019-07-03  английский язык   \n",
       "4           4.0                        Елена 2019-07-03     русский язык   \n",
       "...         ...                          ...        ...              ...   \n",
       "288720   3047.0             Марина Погадаева 2007-03-19            химия   \n",
       "288721   3048.0            Надежда Борисовна 2007-03-18       математика   \n",
       "288722   3049.0                        Ирина 2006-12-13       математика   \n",
       "288723   3050.0  Хомякова Юлия Станиславовна 2006-12-13       математика   \n",
       "288724   3051.0                      Татьяна 2006-10-31  английский язык   \n",
       "\n",
       "               id              mark reply  \\\n",
       "0       3913905.0  лучше не бывает!   NaN   \n",
       "1       3913841.0  лучше не бывает!   NaN   \n",
       "2       3913830.0  лучше не бывает!   NaN   \n",
       "3       3913781.0  лучше не бывает!   NaN   \n",
       "4       3913776.0  лучше не бывает!   NaN   \n",
       "...           ...               ...   ...   \n",
       "288720      502.0     почти отлично   NaN   \n",
       "288721      475.0     почти отлично   NaN   \n",
       "288722      203.0     почти отлично   NaN   \n",
       "288723      201.0     почти отлично   NaN   \n",
       "288724      159.0     почти отлично   NaN   \n",
       "\n",
       "                                                     text  \\\n",
       "0       Очень грамотный и приятный преподаватель ) оче...   \n",
       "1       Прислушивается к потребностям, очень хорошо об...   \n",
       "2       Сын писал пробный ЕГЭ на 70 баллов. Стал заним...   \n",
       "3       Лидия замечательный преподаватель, пунктуальны...   \n",
       "4       Плюсы: Репетитор замечательный, легко нашла ко...   \n",
       "...                                                   ...   \n",
       "288720  По химии стала понимать, о чем говорит учитель...   \n",
       "288721  Тактичный, ответственный,пунктуальный, професс...   \n",
       "288722  Интеллигентный,образованный человек.Объясняет ...   \n",
       "288723  Довольны работой Георгия, очень быстро нашел о...   \n",
       "288724  Добрый день! Во-первых,хочу поблагодарить адми...   \n",
       "\n",
       "                                                tutorlink  \\\n",
       "0       https://repetitors.info/repetitor/?p=SuhorukovaNA   \n",
       "1           https://repetitors.info/repetitor/?p=RebrovRU   \n",
       "2       https://repetitors.info/repetitor/?p=SadovnikovSV   \n",
       "3         https://repetitors.info/repetitor/?p=ErshovaLV5   \n",
       "4          https://repetitors.info/repetitor/?p=NoskovaEI   \n",
       "...                                                   ...   \n",
       "288720    https://repetitors.info/repetitor/?p=KomnatnyVV   \n",
       "288721       https://repetitors.info/repetitor/?p=RubanSA   \n",
       "288722     https://repetitors.info/repetitor/?p=ZaitsevSV   \n",
       "288723    https://repetitors.info/repetitor/?p=MutafianGS   \n",
       "288724     https://repetitors.info/repetitor/?p=VitkinaDE   \n",
       "\n",
       "                             tutorname  \n",
       "0       Сухорукова Наталия Альбертовна  \n",
       "1                Ребров Родион Юрьевич  \n",
       "2         Садовников Сергей Викторович  \n",
       "3            Ершова Лидия Владимировна  \n",
       "4             Носкова Евгения Игоревна  \n",
       "...                                ...  \n",
       "288720    Комнатный Виталий Викторович  \n",
       "288721         Рубан Сергей Алексеевич  \n",
       "288722      Зайцев Сергей Владимирович  \n",
       "288723       Мутафян Георгий Семёнович  \n",
       "288724        Виткина Дарья Евгеньевна  \n",
       "\n",
       "[288725 rows x 10 columns]"
      ]
     },
     "execution_count": 2,
     "metadata": {},
     "output_type": "execute_result"
    }
   ],
   "source": [
    "file = \"repetitors_1.xlsx\"\n",
    "datafile = pd.concat(pd.read_excel(file, sheet_name=None), ignore_index=True)\n",
    "datafile"
   ]
  },
  {
   "cell_type": "code",
   "execution_count": 3,
   "metadata": {},
   "outputs": [
    {
     "data": {
      "text/html": [
       "<div>\n",
       "<style scoped>\n",
       "    .dataframe tbody tr th:only-of-type {\n",
       "        vertical-align: middle;\n",
       "    }\n",
       "\n",
       "    .dataframe tbody tr th {\n",
       "        vertical-align: top;\n",
       "    }\n",
       "\n",
       "    .dataframe thead th {\n",
       "        text-align: right;\n",
       "    }\n",
       "</style>\n",
       "<table border=\"1\" class=\"dataframe\">\n",
       "  <thead>\n",
       "    <tr style=\"text-align: right;\">\n",
       "      <th></th>\n",
       "      <th>discipline</th>\n",
       "      <th>mark</th>\n",
       "    </tr>\n",
       "  </thead>\n",
       "  <tbody>\n",
       "    <tr>\n",
       "      <td>0</td>\n",
       "      <td>биология</td>\n",
       "      <td>лучше не бывает!</td>\n",
       "    </tr>\n",
       "    <tr>\n",
       "      <td>1</td>\n",
       "      <td>не указана</td>\n",
       "      <td>лучше не бывает!</td>\n",
       "    </tr>\n",
       "    <tr>\n",
       "      <td>2</td>\n",
       "      <td>физика</td>\n",
       "      <td>лучше не бывает!</td>\n",
       "    </tr>\n",
       "    <tr>\n",
       "      <td>3</td>\n",
       "      <td>английский язык</td>\n",
       "      <td>лучше не бывает!</td>\n",
       "    </tr>\n",
       "    <tr>\n",
       "      <td>4</td>\n",
       "      <td>русский язык</td>\n",
       "      <td>лучше не бывает!</td>\n",
       "    </tr>\n",
       "    <tr>\n",
       "      <td>...</td>\n",
       "      <td>...</td>\n",
       "      <td>...</td>\n",
       "    </tr>\n",
       "    <tr>\n",
       "      <td>288720</td>\n",
       "      <td>химия</td>\n",
       "      <td>почти отлично</td>\n",
       "    </tr>\n",
       "    <tr>\n",
       "      <td>288721</td>\n",
       "      <td>математика</td>\n",
       "      <td>почти отлично</td>\n",
       "    </tr>\n",
       "    <tr>\n",
       "      <td>288722</td>\n",
       "      <td>математика</td>\n",
       "      <td>почти отлично</td>\n",
       "    </tr>\n",
       "    <tr>\n",
       "      <td>288723</td>\n",
       "      <td>математика</td>\n",
       "      <td>почти отлично</td>\n",
       "    </tr>\n",
       "    <tr>\n",
       "      <td>288724</td>\n",
       "      <td>английский язык</td>\n",
       "      <td>почти отлично</td>\n",
       "    </tr>\n",
       "  </tbody>\n",
       "</table>\n",
       "<p>288723 rows × 2 columns</p>\n",
       "</div>"
      ],
      "text/plain": [
       "             discipline              mark\n",
       "0              биология  лучше не бывает!\n",
       "1            не указана  лучше не бывает!\n",
       "2                физика  лучше не бывает!\n",
       "3       английский язык  лучше не бывает!\n",
       "4          русский язык  лучше не бывает!\n",
       "...                 ...               ...\n",
       "288720            химия     почти отлично\n",
       "288721       математика     почти отлично\n",
       "288722       математика     почти отлично\n",
       "288723       математика     почти отлично\n",
       "288724  английский язык     почти отлично\n",
       "\n",
       "[288723 rows x 2 columns]"
      ]
     },
     "execution_count": 3,
     "metadata": {},
     "output_type": "execute_result"
    }
   ],
   "source": [
    "datafile = datafile.drop(['Column1', 'author', 'date', 'id', 'reply', 'text', 'tutorlink', 'tutorname'], axis=1).dropna()\n",
    "datafile"
   ]
  },
  {
   "cell_type": "code",
   "execution_count": 4,
   "metadata": {},
   "outputs": [
    {
     "data": {
      "text/plain": [
       "{'лучше не бывает!': 1,\n",
       " 'отлично': 2,\n",
       " 'вполне хорошо': 3,\n",
       " 'ужасно': 4,\n",
       " 'плохо': 5,\n",
       " 'так себе...': 6,\n",
       " 'более-менее': 7,\n",
       " 'почти хорошо': 8,\n",
       " 'хорошо': 9,\n",
       " 'почти отлично': 10}"
      ]
     },
     "execution_count": 4,
     "metadata": {},
     "output_type": "execute_result"
    }
   ],
   "source": [
    "marks = {}\n",
    "number = 1\n",
    "for mark in datafile['mark'].unique():\n",
    "    marks[mark] = number\n",
    "    number += 1\n",
    "marks"
   ]
  },
  {
   "cell_type": "code",
   "execution_count": 5,
   "metadata": {},
   "outputs": [
    {
     "data": {
      "text/html": [
       "<div>\n",
       "<style scoped>\n",
       "    .dataframe tbody tr th:only-of-type {\n",
       "        vertical-align: middle;\n",
       "    }\n",
       "\n",
       "    .dataframe tbody tr th {\n",
       "        vertical-align: top;\n",
       "    }\n",
       "\n",
       "    .dataframe thead th {\n",
       "        text-align: right;\n",
       "    }\n",
       "</style>\n",
       "<table border=\"1\" class=\"dataframe\">\n",
       "  <thead>\n",
       "    <tr style=\"text-align: right;\">\n",
       "      <th></th>\n",
       "      <th>discipline</th>\n",
       "      <th>mark</th>\n",
       "    </tr>\n",
       "  </thead>\n",
       "  <tbody>\n",
       "    <tr>\n",
       "      <td>0</td>\n",
       "      <td>биология</td>\n",
       "      <td>1</td>\n",
       "    </tr>\n",
       "    <tr>\n",
       "      <td>1</td>\n",
       "      <td>не указана</td>\n",
       "      <td>1</td>\n",
       "    </tr>\n",
       "    <tr>\n",
       "      <td>2</td>\n",
       "      <td>физика</td>\n",
       "      <td>1</td>\n",
       "    </tr>\n",
       "    <tr>\n",
       "      <td>3</td>\n",
       "      <td>английский язык</td>\n",
       "      <td>1</td>\n",
       "    </tr>\n",
       "    <tr>\n",
       "      <td>4</td>\n",
       "      <td>русский язык</td>\n",
       "      <td>1</td>\n",
       "    </tr>\n",
       "    <tr>\n",
       "      <td>...</td>\n",
       "      <td>...</td>\n",
       "      <td>...</td>\n",
       "    </tr>\n",
       "    <tr>\n",
       "      <td>288720</td>\n",
       "      <td>химия</td>\n",
       "      <td>10</td>\n",
       "    </tr>\n",
       "    <tr>\n",
       "      <td>288721</td>\n",
       "      <td>математика</td>\n",
       "      <td>10</td>\n",
       "    </tr>\n",
       "    <tr>\n",
       "      <td>288722</td>\n",
       "      <td>математика</td>\n",
       "      <td>10</td>\n",
       "    </tr>\n",
       "    <tr>\n",
       "      <td>288723</td>\n",
       "      <td>математика</td>\n",
       "      <td>10</td>\n",
       "    </tr>\n",
       "    <tr>\n",
       "      <td>288724</td>\n",
       "      <td>английский язык</td>\n",
       "      <td>10</td>\n",
       "    </tr>\n",
       "  </tbody>\n",
       "</table>\n",
       "<p>288723 rows × 2 columns</p>\n",
       "</div>"
      ],
      "text/plain": [
       "             discipline  mark\n",
       "0              биология     1\n",
       "1            не указана     1\n",
       "2                физика     1\n",
       "3       английский язык     1\n",
       "4          русский язык     1\n",
       "...                 ...   ...\n",
       "288720            химия    10\n",
       "288721       математика    10\n",
       "288722       математика    10\n",
       "288723       математика    10\n",
       "288724  английский язык    10\n",
       "\n",
       "[288723 rows x 2 columns]"
      ]
     },
     "execution_count": 5,
     "metadata": {},
     "output_type": "execute_result"
    }
   ],
   "source": [
    "datafile = datafile.replace({\"mark\": marks}).dropna()\n",
    "datafile"
   ]
  },
  {
   "cell_type": "code",
   "execution_count": 6,
   "metadata": {},
   "outputs": [
    {
     "data": {
      "text/plain": [
       "{'биология': 1,\n",
       " 'не указана': 2,\n",
       " 'физика': 3,\n",
       " 'английский язык': 4,\n",
       " 'русский язык': 5,\n",
       " 'математика': 6,\n",
       " 'химия': 7,\n",
       " 'обществознание': 8,\n",
       " 'рисование': 9,\n",
       " 'испанский язык': 10,\n",
       " 'логопеды': 11,\n",
       " 'литература': 12,\n",
       " 'информатика': 13,\n",
       " 'эконометрика': 14,\n",
       " 'подготовка к школе': 15,\n",
       " 'начальная школа': 16,\n",
       " 'география': 17,\n",
       " 'вокал': 18,\n",
       " 'фортепиано': 19,\n",
       " 'история': 20,\n",
       " 'французский язык': 21,\n",
       " 'арабский язык': 22,\n",
       " 'микроэкономика': 23,\n",
       " 'итальянский язык': 24,\n",
       " 'психология': 25,\n",
       " 'сопротивление материалов': 26,\n",
       " 'шахматы': 27,\n",
       " 'статистика': 28,\n",
       " 'немецкий язык': 29,\n",
       " 'музыка': 30,\n",
       " 'высшая математика': 31,\n",
       " 'бухгалтерский учет': 32,\n",
       " 'китайский язык': 33,\n",
       " 'греческий язык': 34,\n",
       " 'японский язык': 35,\n",
       " 'скрипка': 36,\n",
       " 'РКИ': 37,\n",
       " 'актерское мастерство': 38,\n",
       " 'экономика': 39,\n",
       " 'гитара': 40,\n",
       " 'программирование': 41,\n",
       " 'черчение': 42,\n",
       " 'менеджмент': 43,\n",
       " 'риторика': 44,\n",
       " 'макроэкономика': 45,\n",
       " 'польский язык': 46,\n",
       " 'корейский язык': 47,\n",
       " 'флейта': 48,\n",
       " 'турецкий язык': 49,\n",
       " 'математический анализ': 50,\n",
       " 'венгерский язык': 51,\n",
       " 'правоведение': 52,\n",
       " 'голландский язык': 53,\n",
       " 'латынь': 54,\n",
       " 'финский язык': 55,\n",
       " 'компьютерная графика': 56,\n",
       " 'теоретическая механика': 57,\n",
       " 'чешский язык': 58,\n",
       " 'электротехника': 59,\n",
       " 'сольфеджио': 60,\n",
       " 'начертательная геометрия': 61,\n",
       " 'шведский язык': 62,\n",
       " 'сербский язык': 63,\n",
       " 'философия': 64,\n",
       " 'теория вероятностей': 65,\n",
       " 'логика': 66,\n",
       " 'иврит': 67,\n",
       " 'казахский язык': 68,\n",
       " 'хинди': 69,\n",
       " 'португальский язык': 70,\n",
       " 'другие предметы': 71,\n",
       " 'украинский язык': 72,\n",
       " 'датский язык': 73,\n",
       " 'норвежский язык': 74,\n",
       " 'оригами': 75,\n",
       " 'няни': 76}"
      ]
     },
     "execution_count": 6,
     "metadata": {},
     "output_type": "execute_result"
    }
   ],
   "source": [
    "disciplines = {}\n",
    "number = 1\n",
    "for subject in datafile['discipline'].unique():\n",
    "    disciplines[subject] = number\n",
    "    number += 1\n",
    "disciplines"
   ]
  },
  {
   "cell_type": "code",
   "execution_count": 7,
   "metadata": {},
   "outputs": [
    {
     "data": {
      "text/html": [
       "<div>\n",
       "<style scoped>\n",
       "    .dataframe tbody tr th:only-of-type {\n",
       "        vertical-align: middle;\n",
       "    }\n",
       "\n",
       "    .dataframe tbody tr th {\n",
       "        vertical-align: top;\n",
       "    }\n",
       "\n",
       "    .dataframe thead th {\n",
       "        text-align: right;\n",
       "    }\n",
       "</style>\n",
       "<table border=\"1\" class=\"dataframe\">\n",
       "  <thead>\n",
       "    <tr style=\"text-align: right;\">\n",
       "      <th></th>\n",
       "      <th>discipline</th>\n",
       "      <th>mark</th>\n",
       "    </tr>\n",
       "  </thead>\n",
       "  <tbody>\n",
       "    <tr>\n",
       "      <td>0</td>\n",
       "      <td>1</td>\n",
       "      <td>1</td>\n",
       "    </tr>\n",
       "    <tr>\n",
       "      <td>1</td>\n",
       "      <td>2</td>\n",
       "      <td>1</td>\n",
       "    </tr>\n",
       "    <tr>\n",
       "      <td>2</td>\n",
       "      <td>3</td>\n",
       "      <td>1</td>\n",
       "    </tr>\n",
       "    <tr>\n",
       "      <td>3</td>\n",
       "      <td>4</td>\n",
       "      <td>1</td>\n",
       "    </tr>\n",
       "    <tr>\n",
       "      <td>4</td>\n",
       "      <td>5</td>\n",
       "      <td>1</td>\n",
       "    </tr>\n",
       "    <tr>\n",
       "      <td>...</td>\n",
       "      <td>...</td>\n",
       "      <td>...</td>\n",
       "    </tr>\n",
       "    <tr>\n",
       "      <td>288720</td>\n",
       "      <td>7</td>\n",
       "      <td>10</td>\n",
       "    </tr>\n",
       "    <tr>\n",
       "      <td>288721</td>\n",
       "      <td>6</td>\n",
       "      <td>10</td>\n",
       "    </tr>\n",
       "    <tr>\n",
       "      <td>288722</td>\n",
       "      <td>6</td>\n",
       "      <td>10</td>\n",
       "    </tr>\n",
       "    <tr>\n",
       "      <td>288723</td>\n",
       "      <td>6</td>\n",
       "      <td>10</td>\n",
       "    </tr>\n",
       "    <tr>\n",
       "      <td>288724</td>\n",
       "      <td>4</td>\n",
       "      <td>10</td>\n",
       "    </tr>\n",
       "  </tbody>\n",
       "</table>\n",
       "<p>288723 rows × 2 columns</p>\n",
       "</div>"
      ],
      "text/plain": [
       "        discipline  mark\n",
       "0                1     1\n",
       "1                2     1\n",
       "2                3     1\n",
       "3                4     1\n",
       "4                5     1\n",
       "...            ...   ...\n",
       "288720           7    10\n",
       "288721           6    10\n",
       "288722           6    10\n",
       "288723           6    10\n",
       "288724           4    10\n",
       "\n",
       "[288723 rows x 2 columns]"
      ]
     },
     "execution_count": 7,
     "metadata": {},
     "output_type": "execute_result"
    }
   ],
   "source": [
    "datafile = datafile.replace({\"discipline\": disciplines})\n",
    "datafile"
   ]
  },
  {
   "cell_type": "markdown",
   "metadata": {},
   "source": [
    "# Birch"
   ]
  },
  {
   "cell_type": "code",
   "execution_count": 8,
   "metadata": {},
   "outputs": [
    {
     "data": {
      "text/plain": [
       "Birch(branching_factor=50, compute_labels=True, copy=True, n_clusters=None,\n",
       "      threshold=1.5)"
      ]
     },
     "execution_count": 8,
     "metadata": {},
     "output_type": "execute_result"
    }
   ],
   "source": [
    "brc = Birch(branching_factor=50, n_clusters=None, threshold=1.5)\n",
    "brc.fit(datafile.values)"
   ]
  },
  {
   "cell_type": "code",
   "execution_count": 9,
   "metadata": {},
   "outputs": [
    {
     "data": {
      "text/plain": [
       "288723"
      ]
     },
     "execution_count": 9,
     "metadata": {},
     "output_type": "execute_result"
    }
   ],
   "source": [
    "labels = brc.predict(datafile.values)\n",
    "len(labels)"
   ]
  },
  {
   "cell_type": "code",
   "execution_count": 10,
   "metadata": {},
   "outputs": [
    {
     "data": {
      "text/plain": [
       "<matplotlib.collections.PathCollection at 0x7fb18edc4890>"
      ]
     },
     "execution_count": 10,
     "metadata": {},
     "output_type": "execute_result"
    },
    {
     "data": {
      "image/png": "[encoded data removed]",
      "text/plain": [
       "<Figure size 432x288 with 1 Axes>"
      ]
     },
     "metadata": {
      "needs_background": "light"
     },
     "output_type": "display_data"
    }
   ],
   "source": [
    "plt.scatter(datafile.values[:,0], datafile.values[:,1], c=labels, cmap='rainbow', alpha=0.7, edgecolors='b')"
   ]
  },
  {
   "cell_type": "markdown",
   "metadata": {},
   "source": [
    "# K-Means"
   ]
  },
  {
   "cell_type": "code",
   "execution_count": 11,
   "metadata": {},
   "outputs": [],
   "source": [
    "preprocessor = Pipeline(\n",
    "    [\n",
    "        (\"scaler\", MinMaxScaler()),\n",
    "        (\"pca\", PCA(n_components=2, random_state=42)),\n",
    "    ]\n",
    ")"
   ]
  },
  {
   "cell_type": "code",
   "execution_count": 27,
   "metadata": {},
   "outputs": [
    {
     "data": {
      "text/plain": [
       "array([2, 2, 0, 0, 0])"
      ]
     },
     "execution_count": 27,
     "metadata": {},
     "output_type": "execute_result"
    }
   ],
   "source": [
    "label_encoder = LabelEncoder()\n",
    "true_labels = label_encoder.fit_transform(labels)\n",
    "true_labels[:5]"
   ]
  },
  {
   "cell_type": "code",
   "execution_count": 28,
   "metadata": {},
   "outputs": [
    {
     "data": {
      "text/plain": [
       "array([ 0,  1,  2,  3,  4,  5,  6,  7,  8,  9, 10, 11, 12, 13, 14, 15, 16,\n",
       "       17, 18, 19, 20, 21, 22, 23, 24, 25, 26, 27, 28, 29, 30, 31, 32, 33,\n",
       "       34, 35, 36, 37, 38, 39, 40, 41, 42, 43, 44, 45, 46, 47, 48])"
      ]
     },
     "execution_count": 28,
     "metadata": {},
     "output_type": "execute_result"
    }
   ],
   "source": [
    "label_encoder.classes_"
   ]
  },
  {
   "cell_type": "code",
   "execution_count": 29,
   "metadata": {},
   "outputs": [
    {
     "data": {
      "text/plain": [
       "49"
      ]
     },
     "execution_count": 29,
     "metadata": {},
     "output_type": "execute_result"
    }
   ],
   "source": [
    "n_clusters = len(label_encoder.classes_)\n",
    "n_clusters"
   ]
  },
  {
   "cell_type": "code",
   "execution_count": 30,
   "metadata": {},
   "outputs": [],
   "source": [
    "clusterer = Pipeline(\n",
    "   [\n",
    "       (\n",
    "           \"kmeans\",\n",
    "           KMeans(\n",
    "               n_clusters=n_clusters,\n",
    "               init=\"k-means++\",\n",
    "               n_init=50,\n",
    "               max_iter=500,\n",
    "               random_state=42,\n",
    "           ),\n",
    "       ),\n",
    "   ]\n",
    ")"
   ]
  },
  {
   "cell_type": "code",
   "execution_count": 31,
   "metadata": {},
   "outputs": [],
   "source": [
    "pipe = Pipeline(\n",
    "    [\n",
    "        (\"preprocessor\", preprocessor),\n",
    "        (\"clusterer\", clusterer)\n",
    "    ]\n",
    ")"
   ]
  },
  {
   "cell_type": "code",
   "execution_count": 32,
   "metadata": {},
   "outputs": [
    {
     "data": {
      "text/plain": [
       "Pipeline(memory=None,\n",
       "         steps=[('preprocessor',\n",
       "                 Pipeline(memory=None,\n",
       "                          steps=[('scaler',\n",
       "                                  MinMaxScaler(copy=True,\n",
       "                                               feature_range=(0, 1))),\n",
       "                                 ('pca',\n",
       "                                  PCA(copy=True, iterated_power='auto',\n",
       "                                      n_components=2, random_state=42,\n",
       "                                      svd_solver='auto', tol=0.0,\n",
       "                                      whiten=False))],\n",
       "                          verbose=False)),\n",
       "                ('clusterer',\n",
       "                 Pipeline(memory=None,\n",
       "                          steps=[('kmeans',\n",
       "                                  KMeans(algorithm='auto', copy_x=True,\n",
       "                                         init='k-means++', max_iter=500,\n",
       "                                         n_clusters=49, n_init=50, n_jobs=None,\n",
       "                                         precompute_distances='auto',\n",
       "                                         random_state=42, tol=0.0001,\n",
       "                                         verbose=0))],\n",
       "                          verbose=False))],\n",
       "         verbose=False)"
      ]
     },
     "execution_count": 32,
     "metadata": {},
     "output_type": "execute_result"
    }
   ],
   "source": [
    "pipe.fit(datafile)"
   ]
  },
  {
   "cell_type": "code",
   "execution_count": 50,
   "metadata": {},
   "outputs": [],
   "source": [
    "predicted_labels = pipe[\"clusterer\"][\"kmeans\"].labels_"
   ]
  },
  {
   "cell_type": "code",
   "execution_count": 51,
   "metadata": {},
   "outputs": [
    {
     "data": {
      "text/plain": [
       "0.6201031367535151"
      ]
     },
     "execution_count": 51,
     "metadata": {},
     "output_type": "execute_result"
    }
   ],
   "source": [
    "adjusted_rand_score(true_labels, predicted_labels)"
   ]
  },
  {
   "cell_type": "code",
   "execution_count": 49,
   "metadata": {},
   "outputs": [
    {
     "data": {
      "text/plain": [
       "<matplotlib.collections.PathCollection at 0x7fb189a56dd0>"
      ]
     },
     "execution_count": 49,
     "metadata": {},
     "output_type": "execute_result"
    },
    {
     "data": {
      "image/png": "[encoded data removed]",
      "text/plain": [
       "<Figure size 432x288 with 1 Axes>"
      ]
     },
     "metadata": {},
     "output_type": "display_data"
    }
   ],
   "source": [
    "plt.scatter(datafile.values[:,0], datafile.values[:,1], c=true_labels, cmap='rainbow', alpha=0.7, edgecolors='b')"
   ]
  },
  {
   "cell_type": "code",
   "execution_count": null,
   "metadata": {},
   "outputs": [],
   "source": []
  }
 ],
 "metadata": {
  "kernelspec": {
   "display_name": "Python 3",
   "language": "python",
   "name": "python3"
  },
  "language_info": {
   "codemirror_mode": {
    "name": "ipython",
    "version": 3
   },
   "file_extension": ".py",
   "mimetype": "text/x-python",
   "name": "python",
   "nbconvert_exporter": "python",
   "pygments_lexer": "ipython3",
   "version": "3.7.4"
  }
 },
 "nbformat": 4,
 "nbformat_minor": 2
}
