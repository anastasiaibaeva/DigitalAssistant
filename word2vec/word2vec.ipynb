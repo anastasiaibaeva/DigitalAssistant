{
 "cells": [
  {
   "cell_type": "code",
   "execution_count": 63,
   "metadata": {},
   "outputs": [],
   "source": [
    "import os\n",
    "import gensim\n",
    "from gensim import models\n",
    "from gensim.models import Word2Vec, KeyedVectors\n",
    "from gensim.models import Phrases"
   ]
  },
  {
   "cell_type": "code",
   "execution_count": 18,
   "metadata": {},
   "outputs": [
    {
     "name": "stdout",
     "output_type": "stream",
     "text": [
      "Database opened successfully\n"
     ]
    }
   ],
   "source": [
    "import psycopg2\n",
    "\n",
    "con = psycopg2.connect(\n",
    "  database=\"db_dsa\", \n",
    "  user=\"udsa\", \n",
    "  password=\"P@ssword2021\", \n",
    "  host=\"92.242.58.173\", \n",
    "  port=\"1984\"\n",
    ")\n",
    "\n",
    "print(\"Database opened successfully\")"
   ]
  },
  {
   "cell_type": "code",
   "execution_count": 25,
   "metadata": {},
   "outputs": [
    {
     "data": {
      "text/html": [
       "<div>\n",
       "<style scoped>\n",
       "    .dataframe tbody tr th:only-of-type {\n",
       "        vertical-align: middle;\n",
       "    }\n",
       "\n",
       "    .dataframe tbody tr th {\n",
       "        vertical-align: top;\n",
       "    }\n",
       "\n",
       "    .dataframe thead th {\n",
       "        text-align: right;\n",
       "    }\n",
       "</style>\n",
       "<table border=\"1\" class=\"dataframe\">\n",
       "  <thead>\n",
       "    <tr style=\"text-align: right;\">\n",
       "      <th></th>\n",
       "      <th>ID</th>\n",
       "      <th>NUMBER</th>\n",
       "      <th>VACANCIES</th>\n",
       "      <th>NAME</th>\n",
       "      <th>TYPE</th>\n",
       "      <th>TYPEDESC</th>\n",
       "      <th>TYPEID</th>\n",
       "      <th>STATUSID</th>\n",
       "      <th>STATUSDESC</th>\n",
       "      <th>DIRECTIONHEAD</th>\n",
       "      <th>HEAD</th>\n",
       "      <th>DATACREATED</th>\n",
       "      <th>FACULTYID</th>\n",
       "    </tr>\n",
       "  </thead>\n",
       "  <tbody>\n",
       "    <tr>\n",
       "      <td>0</td>\n",
       "      <td>205</td>\n",
       "      <td>NaN</td>\n",
       "      <td>2</td>\n",
       "      <td>Численное и аналитическое исследование эффекта...</td>\n",
       "      <td>nir</td>\n",
       "      <td>НИР</td>\n",
       "      <td>1</td>\n",
       "      <td>1</td>\n",
       "      <td>Готов к работе</td>\n",
       "      <td>Данилов Владимир Григорьевич</td>\n",
       "      <td>Данилов Владимир Григорьевич</td>\n",
       "      <td>08.05.2020 21:25:02</td>\n",
       "      <td>None</td>\n",
       "    </tr>\n",
       "    <tr>\n",
       "      <td>1</td>\n",
       "      <td>208</td>\n",
       "      <td>NaN</td>\n",
       "      <td>3</td>\n",
       "      <td>Исследование механизмов образования, способов ...</td>\n",
       "      <td>nir</td>\n",
       "      <td>НИР</td>\n",
       "      <td>1</td>\n",
       "      <td>1</td>\n",
       "      <td>Готов к работе</td>\n",
       "      <td></td>\n",
       "      <td>Грачев Николай</td>\n",
       "      <td>11.05.2020 14:07:40</td>\n",
       "      <td>None</td>\n",
       "    </tr>\n",
       "    <tr>\n",
       "      <td>2</td>\n",
       "      <td>215</td>\n",
       "      <td>NaN</td>\n",
       "      <td>1</td>\n",
       "      <td>Разработка моста переменного тока</td>\n",
       "      <td>soft-hard</td>\n",
       "      <td>Прогр-аппарат.</td>\n",
       "      <td>3</td>\n",
       "      <td>1</td>\n",
       "      <td>Готов к работе</td>\n",
       "      <td></td>\n",
       "      <td>Балакин Станислав</td>\n",
       "      <td>13.05.2020 16:41:39</td>\n",
       "      <td>None</td>\n",
       "    </tr>\n",
       "    <tr>\n",
       "      <td>3</td>\n",
       "      <td>216</td>\n",
       "      <td>NaN</td>\n",
       "      <td>3</td>\n",
       "      <td>Разработка нательных антенн и излучателей для ...</td>\n",
       "      <td>soft-hard</td>\n",
       "      <td>Прогр-аппарат.</td>\n",
       "      <td>3</td>\n",
       "      <td>1</td>\n",
       "      <td>Готов к работе</td>\n",
       "      <td>Елизаров Андрей Альбертович</td>\n",
       "      <td>Скуридин Андрей</td>\n",
       "      <td>13.05.2020 17:00:19</td>\n",
       "      <td>None</td>\n",
       "    </tr>\n",
       "    <tr>\n",
       "      <td>4</td>\n",
       "      <td>218</td>\n",
       "      <td>NaN</td>\n",
       "      <td>0</td>\n",
       "      <td>Разработка глоссария физических терминов для м...</td>\n",
       "      <td>soft</td>\n",
       "      <td>Прогр.</td>\n",
       "      <td>2</td>\n",
       "      <td>1</td>\n",
       "      <td>Готов к работе</td>\n",
       "      <td></td>\n",
       "      <td>Гузенкова Александра Сергеевна</td>\n",
       "      <td>13.05.2020 19:38:43</td>\n",
       "      <td>None</td>\n",
       "    </tr>\n",
       "  </tbody>\n",
       "</table>\n",
       "</div>"
      ],
      "text/plain": [
       "    ID  NUMBER  VACANCIES                                               NAME  \\\n",
       "0  205     NaN          2  Численное и аналитическое исследование эффекта...   \n",
       "1  208     NaN          3  Исследование механизмов образования, способов ...   \n",
       "2  215     NaN          1                  Разработка моста переменного тока   \n",
       "3  216     NaN          3  Разработка нательных антенн и излучателей для ...   \n",
       "4  218     NaN          0  Разработка глоссария физических терминов для м...   \n",
       "\n",
       "        TYPE        TYPEDESC  TYPEID  STATUSID      STATUSDESC  \\\n",
       "0        nir             НИР       1         1  Готов к работе   \n",
       "1        nir             НИР       1         1  Готов к работе   \n",
       "2  soft-hard  Прогр-аппарат.       3         1  Готов к работе   \n",
       "3  soft-hard  Прогр-аппарат.       3         1  Готов к работе   \n",
       "4       soft          Прогр.       2         1  Готов к работе   \n",
       "\n",
       "                  DIRECTIONHEAD                            HEAD  \\\n",
       "0  Данилов Владимир Григорьевич    Данилов Владимир Григорьевич   \n",
       "1                                                Грачев Николай   \n",
       "2                                             Балакин Станислав   \n",
       "3   Елизаров Андрей Альбертович                 Скуридин Андрей   \n",
       "4                                Гузенкова Александра Сергеевна   \n",
       "\n",
       "           DATACREATED FACULTYID  \n",
       "0  08.05.2020 21:25:02      None  \n",
       "1  11.05.2020 14:07:40      None  \n",
       "2  13.05.2020 16:41:39      None  \n",
       "3  13.05.2020 17:00:19      None  \n",
       "4  13.05.2020 19:38:43      None  "
      ]
     },
     "execution_count": 25,
     "metadata": {},
     "output_type": "execute_result"
    }
   ],
   "source": [
    "cur = con.cursor()\n",
    "cur.execute(\"SELECT * from PROJECTS\")\n",
    "rows = cur.fetchall()\n",
    "column_names=[\"ID\",\"NUMBER\",\"VACANCIES\",\"NAME\",\"TYPE\",\"TYPEDESC\",\"TYPEID\",\"STATUSID\", \"STATUSDESC\",\"DIRECTIONHEAD\",\"HEAD\",\"DATACREATED\",\"FACULTYID\"]\n",
    "df = pd.DataFrame(rows, columns=column_names)\n",
    "df.head()"
   ]
  },
  {
   "cell_type": "code",
   "execution_count": 84,
   "metadata": {},
   "outputs": [
    {
     "data": {
      "text/plain": [
       "'Численное и аналитическое исследование эффекта Саффмана-Тейлора'"
      ]
     },
     "execution_count": 84,
     "metadata": {},
     "output_type": "execute_result"
    }
   ],
   "source": [
    "#подготовили данные\n",
    "df1 = df[['VACANCIES','NAME','TYPE', 'TYPEDESC', 'TYPEID']]\n",
    "df2 = df1.apply(lambda x: ';'.join(x.astype(str)), axis=1)\n",
    "df_clean = pd.DataFrame({'clean': df2})\n",
    "sent = [row.split(';') for row in df_clean['clean']]\n",
    "sent[0][1]"
   ]
  },
  {
   "cell_type": "code",
   "execution_count": 59,
   "metadata": {},
   "outputs": [],
   "source": [
    "model = Word2Vec(sent, min_count=1, workers=3, window=3, sg=1)"
   ]
  },
  {
   "cell_type": "code",
   "execution_count": 61,
   "metadata": {},
   "outputs": [
    {
     "data": {
      "text/plain": [
       "array([ 9.6586719e-03,  6.5849605e-03, -9.2384471e-03, -7.1667768e-03,\n",
       "       -8.3938958e-03,  4.2208377e-03,  9.1112992e-03, -5.2192984e-03,\n",
       "       -8.8882614e-03, -1.3697541e-03, -2.7786859e-03,  1.2769294e-03,\n",
       "        5.3007063e-03,  5.3801591e-04,  4.7876956e-03,  9.1980742e-03,\n",
       "       -7.8712506e-03,  5.7810997e-03,  5.9371360e-04, -8.1258845e-03,\n",
       "       -5.3858776e-03,  4.2189239e-03,  7.9421699e-03, -6.3709021e-03,\n",
       "       -4.3968405e-03, -2.6843355e-03, -3.4848482e-03, -9.5763905e-03,\n",
       "        1.5798631e-03, -7.6085483e-03, -6.2058717e-03,  4.3801148e-03,\n",
       "       -5.6908480e-03, -3.0399514e-03,  6.1912421e-04,  9.3585057e-03,\n",
       "       -5.4512424e-03,  8.6868758e-04, -6.9878018e-03,  6.5162652e-03,\n",
       "        9.9316034e-03,  9.8345680e-03, -4.1456572e-03,  9.5488019e-03,\n",
       "        7.1329605e-03, -2.2072163e-04, -3.6325033e-03,  1.5694521e-03,\n",
       "        3.7358152e-03, -7.2864215e-03,  3.4509320e-03,  2.9566977e-03,\n",
       "        8.4105245e-04, -2.8386281e-03,  2.3977007e-03,  5.5984347e-03,\n",
       "       -3.4222302e-03,  1.3835011e-03,  5.5662086e-03,  1.0313689e-03,\n",
       "        7.8250607e-03,  5.5996729e-03, -3.5834087e-03,  6.7081819e-03,\n",
       "        2.4614492e-03,  2.6014312e-03, -9.8356640e-04, -8.0186697e-03,\n",
       "       -6.2474245e-03, -1.6303183e-04, -3.2055490e-03,  7.7219210e-03,\n",
       "        3.0511878e-03,  4.7640200e-03,  4.0323783e-05,  1.8592951e-03,\n",
       "       -3.4505274e-04, -8.7261116e-03,  1.8436838e-03,  9.4929123e-03,\n",
       "        5.1832427e-03, -9.4760368e-03,  8.4225098e-03, -7.2409157e-03,\n",
       "        1.6339616e-03, -8.6510181e-03,  9.0088546e-03,  2.4487376e-03,\n",
       "       -1.7690824e-04, -3.6158989e-04, -3.0069302e-03,  8.7073818e-03,\n",
       "        5.7778819e-03,  2.4583475e-03, -1.0532447e-03,  1.2732081e-03,\n",
       "        2.4419362e-03, -9.5717069e-03, -8.6729657e-03,  9.0865679e-03],\n",
       "      dtype=float32)"
      ]
     },
     "execution_count": 61,
     "metadata": {},
     "output_type": "execute_result"
    }
   ],
   "source": [
    "model.wv['Численное и аналитическое исследование эффекта Саффмана-Тейлора']"
   ]
  },
  {
   "cell_type": "code",
   "execution_count": 69,
   "metadata": {},
   "outputs": [
    {
     "data": {
      "text/plain": [
       "[('Разработка онлайн конструктора курсов (дисциплин)', 0.2933916449546814),\n",
       " ('Self-learning Monte-Carlo algorithms', 0.2611086368560791),\n",
       " ('Smart медицина', 0.23156313598155975),\n",
       " ('Статистические свойства случайных блужданий с объемным и поверхностным подкреплением',\n",
       "  0.22982531785964966),\n",
       " ('Indoor - позиционирование', 0.21390990912914276),\n",
       " ('Моделирование электрических режимов и конструкции канала регулирования соотношения компонентов топлива ракетного двигателя',\n",
       "  0.20061825215816498),\n",
       " ('Доверенная клавиатура', 0.19228802621364594),\n",
       " ('Разработка автоматизированного классификатора коротких текстов',\n",
       "  0.19188471138477325),\n",
       " ('1', 0.18962623178958893),\n",
       " ('Автоматизация процессов распределения продукции на основе спроса',\n",
       "  0.18877863883972168)]"
      ]
     },
     "execution_count": 69,
     "metadata": {},
     "output_type": "execute_result"
    }
   ],
   "source": [
    "model.wv.most_similar('Численное и аналитическое исследование эффекта Саффмана-Тейлора', topn=10)"
   ]
  },
  {
   "cell_type": "code",
   "execution_count": null,
   "metadata": {},
   "outputs": [],
   "source": []
  }
 ],
 "metadata": {
  "kernelspec": {
   "display_name": "Python 3",
   "language": "python",
   "name": "python3"
  },
  "language_info": {
   "codemirror_mode": {
    "name": "ipython",
    "version": 3
   },
   "file_extension": ".py",
   "mimetype": "text/x-python",
   "name": "python",
   "nbconvert_exporter": "python",
   "pygments_lexer": "ipython3",
   "version": "3.7.4"
  }
 },
 "nbformat": 4,
 "nbformat_minor": 2
}
